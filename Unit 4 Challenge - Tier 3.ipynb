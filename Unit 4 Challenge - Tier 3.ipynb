{
 "cells": [
  {
   "cell_type": "markdown",
   "metadata": {
    "colab_type": "text",
    "id": "Tia3MP1SJpgj"
   },
   "source": [
    "# Springboard Data Science Career Track Unit 4 Challenge - Tier 3 Complete\n",
    "\n",
    "## Objectives\n",
    "Hey! Great job getting through those challenging DataCamp courses. You're learning a lot in a short span of time. \n",
    "\n",
    "In this notebook, you're going to apply the skills you've been learning, bridging the gap between the controlled environment of DataCamp and the *slightly* messier work that data scientists do with actual datasets!\n",
    "\n",
    "Here’s the mystery we’re going to solve: ***which boroughs of London have seen the greatest increase in housing prices, on average, over the last two decades?***\n",
    "\n",
    "\n",
    "A borough is just a fancy word for district. You may be familiar with the five boroughs of New York… well, there are 32 boroughs within Greater London [(here's some info for the curious)](https://en.wikipedia.org/wiki/London_boroughs). Some of them are more desirable areas to live in, and the data will reflect that with a greater rise in housing prices.\n",
    "\n",
    "***This is the Tier 3 notebook, which means it's not filled in at all: we'll just give you the skeleton of a project, the brief and the data. It's up to you to play around with it and see what you can find out! Good luck! If you struggle, feel free to look at easier tiers for help; but try to dip in and out of them, as the more independent work you do, the better it is for your learning!***\n",
    "\n",
    "This challenge will make use of only what you learned in the following DataCamp courses: \n",
    "- Prework courses (Introduction to Python for Data Science, Intermediate Python for Data Science)\n",
    "- Data Types for Data Science\n",
    "- Python Data Science Toolbox (Part One) \n",
    "- pandas Foundations\n",
    "- Manipulating DataFrames with pandas\n",
    "- Merging DataFrames with pandas\n",
    "\n",
    "Of the tools, techniques and concepts in the above DataCamp courses, this challenge should require the application of the following: \n",
    "- **pandas**\n",
    "    - **data ingestion and inspection** (pandas Foundations, Module One) \n",
    "    - **exploratory data analysis** (pandas Foundations, Module Two)\n",
    "    - **tidying and cleaning** (Manipulating DataFrames with pandas, Module Three) \n",
    "    - **transforming DataFrames** (Manipulating DataFrames with pandas, Module One)\n",
    "    - **subsetting DataFrames with lists** (Manipulating DataFrames with pandas, Module One) \n",
    "    - **filtering DataFrames** (Manipulating DataFrames with pandas, Module One) \n",
    "    - **grouping data** (Manipulating DataFrames with pandas, Module Four) \n",
    "    - **melting data** (Manipulating DataFrames with pandas, Module Three) \n",
    "    - **advanced indexing** (Manipulating DataFrames with pandas, Module Four) \n",
    "- **matplotlib** (Intermediate Python for Data Science, Module One)\n",
    "- **fundamental data types** (Data Types for Data Science, Module One) \n",
    "- **dictionaries** (Intermediate Python for Data Science, Module Two)\n",
    "- **handling dates and times** (Data Types for Data Science, Module Four)\n",
    "- **function definition** (Python Data Science Toolbox - Part One, Module One)\n",
    "- **default arguments, variable length, and scope** (Python Data Science Toolbox - Part One, Module Two) \n",
    "- **lambda functions and error handling** (Python Data Science Toolbox - Part One, Module Four) "
   ]
  },
  {
   "cell_type": "markdown",
   "metadata": {
    "colab_type": "text",
    "id": "Ipgd2nV8Jpgl"
   },
   "source": [
    "## The Data Science Pipeline\n",
    "\n",
    "This is Tier Three, so we'll get you started. But after that, it's all in your hands! When you feel done with your investigations, look back over what you've accomplished, and prepare a quick presentation of your findings for the next mentor meeting. \n",
    "\n",
    "Data Science is magical. In this case study, you'll get to apply some complex machine learning algorithms. But as  [David Spiegelhalter](https://www.youtube.com/watch?v=oUs1uvsz0Ok) reminds us, there is no substitute for simply **taking a really, really good look at the data.** Sometimes, this is all we need to answer our question.\n",
    "\n",
    "Data Science projects generally adhere to the four stages of Data Science Pipeline:\n",
    "1. Sourcing and loading \n",
    "2. Cleaning, transforming, and visualizing \n",
    "3. Modeling \n",
    "4. Evaluating and concluding \n"
   ]
  },
  {
   "cell_type": "markdown",
   "metadata": {
    "colab_type": "text",
    "id": "zswDqbefJpgm"
   },
   "source": [
    "### 1. Sourcing and Loading \n",
    "\n",
    "Any Data Science project kicks off by importing  ***pandas***. The documentation of this wonderful library can be found [here](https://pandas.pydata.org/). As you've seen, pandas is conveniently connected to the [Numpy](http://www.numpy.org/) and [Matplotlib](https://matplotlib.org/) libraries. \n",
    "\n",
    "***Hint:*** This part of the data science pipeline will test those skills you acquired in the pandas Foundations course, Module One. "
   ]
  },
  {
   "cell_type": "markdown",
   "metadata": {
    "colab_type": "text",
    "id": "aEau5nEvJpgm"
   },
   "source": [
    "#### 1.1. Importing Libraries"
   ]
  },
  {
   "cell_type": "code",
   "execution_count": 1626,
   "metadata": {
    "colab": {},
    "colab_type": "code",
    "id": "7Bt_Q_oPJpgn"
   },
   "outputs": [],
   "source": [
    "# Let's import the pandas, numpy libraries as pd, and np respectively. \n",
    "import glob\n",
    "import pandas as pd\n",
    "import numpy as np\n",
    "import matplotlib.pyplot as plt\n",
    "import requests\n",
    "from io import StringIO\n",
    "# Load the pyplot collection of functions from matplotlib, as plt \n"
   ]
  },
  {
   "cell_type": "markdown",
   "metadata": {
    "colab_type": "text",
    "id": "koUrawxsJpgq"
   },
   "source": [
    "#### 1.2.  Loading the data\n",
    "Your data comes from the [London Datastore](https://data.london.gov.uk/): a free, open-source data-sharing portal for London-oriented datasets. "
   ]
  },
  {
   "cell_type": "code",
   "execution_count": 1634,
   "metadata": {
    "colab": {},
    "colab_type": "code",
    "id": "AiLiD4v3Jpgr"
   },
   "outputs": [],
   "source": [
    "# First, make a variable called url_LondonHousePrices, and assign it the following link, enclosed in quotation-marks as a string:\n",
    "# https://data.london.gov.uk/download/uk-house-price-index/70ac0766-8902-4eb5-aab5-01951aaed773/UK%20House%20price%20index.xls\n",
    "# url_LondonHousePrices = \"https://data.london.gov.uk/download/uk-house-price-index/70ac0766-8902-4eb5-aab5-01951aaed773/UK%20House%20price%20index.xls\"\n",
    "# To avoid http error, downloaded file to local drive\n",
    "path_LondonHousePrices = \"Data_Files/UK_House_price_index.xlsx\"\n",
    "\n",
    "# The dataset we're interested in contains the Average prices of the houses, and is actually on a particular sheet of the Excel file. \n",
    "# As a result, we need to specify the sheet name in the read_excel() method.\n",
    "# Put this data into a variable called properties.  \n",
    "properties = pd.read_excel(path_LondonHousePrices, sheet_name='Average price', index_col=0, header=0)\n",
    "\n",
    "#import os\n",
    "#current_directory = os.getcwd()\n",
    "#print(current_directory)\n"
   ]
  },
  {
   "cell_type": "markdown",
   "metadata": {
    "colab_type": "text",
    "id": "POukEJXgJpgu"
   },
   "source": [
    "### 2. Cleaning, transforming, and visualizing\n",
    "This second stage is arguably the most important part of any Data Science project. The first thing to do is take a proper look at the data. Cleaning forms the majority of this stage, and can be done both before or after Transformation.\n",
    "\n",
    "The end goal of data cleaning is to have tidy data. When data is tidy: \n",
    "\n",
    "1. Each variable has a column.\n",
    "2. Each observation forms a row.\n",
    "\n",
    "Keep the end goal in mind as you move through this process, every step will take you closer. \n",
    "\n",
    "\n",
    "\n",
    "***Hint:*** This part of the data science pipeline should test those skills you acquired in: \n",
    "- Intermediate Python for data science, all modules.\n",
    "- pandas Foundations, all modules. \n",
    "- Manipulating DataFrames with pandas, all modules.\n",
    "- Data Types for Data Science, Module Four.\n",
    "- Python Data Science Toolbox - Part One, all modules"
   ]
  },
  {
   "cell_type": "markdown",
   "metadata": {
    "colab_type": "text",
    "id": "Te0Q548tnzZa"
   },
   "source": [
    "**2.1. Exploring your data** \n",
    "\n",
    "Think about your pandas functions for checking out a dataframe. "
   ]
  },
  {
   "cell_type": "code",
   "execution_count": 1636,
   "metadata": {
    "colab": {},
    "colab_type": "code",
    "id": "Rxirxw_qoAJa"
   },
   "outputs": [
    {
     "name": "stdout",
     "output_type": "stream",
     "text": [
      "           City of London Barking & Dagenham     Barnet     Bexley      Brent  \\\n",
      "NaT             E09000001          E09000002  E09000003  E09000004  E09000005   \n",
      "1995-01-01          90347              51870      98948      64956      76880   \n",
      "1995-02-01          81213              52513      98848      64786      77651   \n",
      "1995-03-01          78168              52701      97848      64366      77644   \n",
      "1995-04-01          76172              54618      96273      64276      78668   \n",
      "\n",
      "              Bromley     Camden    Croydon     Ealing    Enfield  ...  \\\n",
      "NaT         E09000006  E09000007  E09000008  E09000009  E09000010  ...   \n",
      "1995-01-01      83082     119775      70118      85469      77018  ...   \n",
      "1995-02-01      83068     118365      69908      86551      77698  ...   \n",
      "1995-03-01      82856     119131      69666      87067      76674  ...   \n",
      "1995-04-01      82525     118948      69562      87933      75880  ...   \n",
      "\n",
      "           NORTH WEST YORKS & THE HUMBER EAST MIDLANDS WEST MIDLANDS  \\\n",
      "NaT         E12000002          E12000003     E12000004     E12000005   \n",
      "1995-01-01      40907              42171         43856         46470   \n",
      "1995-02-01      40877              41912         44344         47249   \n",
      "1995-03-01      41351              42544         43701         47345   \n",
      "1995-04-01      41195              42934         44414         47359   \n",
      "\n",
      "           EAST OF ENGLAND     LONDON SOUTH EAST SOUTH WEST Unnamed: 47  \\\n",
      "NaT              E12000006  E12000007  E12000008  E12000009         NaN   \n",
      "1995-01-01           56098      79687      64502      52799         NaN   \n",
      "1995-02-01           55991      77913      64196      52462         NaN   \n",
      "1995-03-01           55574      79110      64597      51716         NaN   \n",
      "1995-04-01           55966      79708      65111      52877         NaN   \n",
      "\n",
      "              England  \n",
      "NaT         E92000001  \n",
      "1995-01-01      50231  \n",
      "1995-02-01      50130  \n",
      "1995-03-01      50229  \n",
      "1995-04-01      50597  \n",
      "\n",
      "[5 rows x 48 columns]\n",
      "<class 'pandas.core.frame.DataFrame'>\n",
      "DatetimeIndex: 362 entries, NaT to 2025-01-01\n",
      "Data columns (total 48 columns):\n",
      " #   Column                Non-Null Count  Dtype  \n",
      "---  ------                --------------  -----  \n",
      " 0   City of London        362 non-null    object \n",
      " 1   Barking & Dagenham    362 non-null    object \n",
      " 2   Barnet                362 non-null    object \n",
      " 3   Bexley                362 non-null    object \n",
      " 4   Brent                 362 non-null    object \n",
      " 5   Bromley               362 non-null    object \n",
      " 6   Camden                362 non-null    object \n",
      " 7   Croydon               362 non-null    object \n",
      " 8   Ealing                362 non-null    object \n",
      " 9   Enfield               362 non-null    object \n",
      " 10  Greenwich             362 non-null    object \n",
      " 11  Hackney               362 non-null    object \n",
      " 12  Hammersmith & Fulham  362 non-null    object \n",
      " 13  Haringey              362 non-null    object \n",
      " 14  Harrow                362 non-null    object \n",
      " 15  Havering              362 non-null    object \n",
      " 16  Hillingdon            362 non-null    object \n",
      " 17  Hounslow              362 non-null    object \n",
      " 18  Islington             362 non-null    object \n",
      " 19  Kensington & Chelsea  362 non-null    object \n",
      " 20  Kingston upon Thames  362 non-null    object \n",
      " 21  Lambeth               362 non-null    object \n",
      " 22  Lewisham              362 non-null    object \n",
      " 23  Merton                362 non-null    object \n",
      " 24  Newham                362 non-null    object \n",
      " 25  Redbridge             362 non-null    object \n",
      " 26  Richmond upon Thames  362 non-null    object \n",
      " 27  Southwark             362 non-null    object \n",
      " 28  Sutton                362 non-null    object \n",
      " 29  Tower Hamlets         362 non-null    object \n",
      " 30  Waltham Forest        362 non-null    object \n",
      " 31  Wandsworth            362 non-null    object \n",
      " 32  Westminster           362 non-null    object \n",
      " 33  Unnamed: 34           0 non-null      float64\n",
      " 34  Inner London          362 non-null    object \n",
      " 35  Outer London          362 non-null    object \n",
      " 36  Unnamed: 37           0 non-null      float64\n",
      " 37  NORTH EAST            362 non-null    object \n",
      " 38  NORTH WEST            362 non-null    object \n",
      " 39  YORKS & THE HUMBER    362 non-null    object \n",
      " 40  EAST MIDLANDS         362 non-null    object \n",
      " 41  WEST MIDLANDS         362 non-null    object \n",
      " 42  EAST OF ENGLAND       362 non-null    object \n",
      " 43  LONDON                362 non-null    object \n",
      " 44  SOUTH EAST            362 non-null    object \n",
      " 45  SOUTH WEST            362 non-null    object \n",
      " 46  Unnamed: 47           0 non-null      float64\n",
      " 47  England               362 non-null    object \n",
      "dtypes: float64(3), object(45)\n",
      "memory usage: 138.6+ KB\n",
      "None\n",
      "       Unnamed: 34  Unnamed: 37  Unnamed: 47\n",
      "count          0.0          0.0          0.0\n",
      "mean           NaN          NaN          NaN\n",
      "std            NaN          NaN          NaN\n",
      "min            NaN          NaN          NaN\n",
      "25%            NaN          NaN          NaN\n",
      "50%            NaN          NaN          NaN\n",
      "75%            NaN          NaN          NaN\n",
      "max            NaN          NaN          NaN\n"
     ]
    }
   ],
   "source": [
    "#print(properties.iloc[:,0].min())\n",
    "#print(properties.iloc[:,0].max())\n",
    "print(properties.head(5))\n",
    "print(properties.info())\n",
    "print(properties.describe())\n",
    "#print(properties.shape)\n",
    "#print(properties.columns)"
   ]
  },
  {
   "cell_type": "markdown",
   "metadata": {
    "colab_type": "text",
    "id": "tE9Sqt9-oAta"
   },
   "source": [
    "**2.2. Cleaning the data**\n",
    "\n",
    "You might find you need to transpose your dataframe, check out what its row indexes are, and reset the index. You  also might find you need to assign the values of the first row to your column headings  . (Hint: recall the .columns feature of DataFrames, as well as the iloc[] method).\n",
    "\n",
    "Don't be afraid to use StackOverflow for help  with this."
   ]
  },
  {
   "cell_type": "code",
   "execution_count": 1638,
   "metadata": {
    "colab": {},
    "colab_type": "code",
    "id": "cdAu1A3YoH_r"
   },
   "outputs": [
    {
     "name": "stdout",
     "output_type": "stream",
     "text": [
      "       London Borough Borough ID 1995-01-01 00:00:00 1995-02-01 00:00:00  \\\n",
      "0      City of London  E09000001               90347               81213   \n",
      "1  Barking & Dagenham  E09000002               51870               52513   \n",
      "2              Barnet  E09000003               98948               98848   \n",
      "3              Bexley  E09000004               64956               64786   \n",
      "4               Brent  E09000005               76880               77651   \n",
      "\n",
      "  1995-03-01 00:00:00 1995-04-01 00:00:00 1995-05-01 00:00:00  \\\n",
      "0               78168               76172               83392   \n",
      "1               52701               54618               54524   \n",
      "2               97848               96273               95737   \n",
      "3               64366               64276               63995   \n",
      "4               77644               78668               79464   \n",
      "\n",
      "  1995-06-01 00:00:00 1995-07-01 00:00:00 1995-08-01 00:00:00  ...  \\\n",
      "0               93757              108801              110976  ...   \n",
      "1               55200               53569               53691  ...   \n",
      "2               95577               96992               97968  ...   \n",
      "3               64251               63721               64431  ...   \n",
      "4               80118               79920               79295  ...   \n",
      "\n",
      "  2024-04-01 00:00:00 2024-05-01 00:00:00 2024-06-01 00:00:00  \\\n",
      "0              906682              890881              821191   \n",
      "1              344029              342471              337468   \n",
      "2              610143              617515              619324   \n",
      "3              396790              395029              399510   \n",
      "4              541329              539206              566566   \n",
      "\n",
      "  2024-07-01 00:00:00 2024-08-01 00:00:00 2024-09-01 00:00:00  \\\n",
      "0              749029              727214              715165   \n",
      "1              332788              325557              330914   \n",
      "2              623551              628124              625854   \n",
      "3              398542              404304              406573   \n",
      "4              569031              581099              585990   \n",
      "\n",
      "  2024-10-01 00:00:00 2024-11-01 00:00:00 2024-12-01 00:00:00  \\\n",
      "0              698786              698826              811537   \n",
      "1              344488              356482              355385   \n",
      "2              626818              628529              623055   \n",
      "3              409095              406993              404921   \n",
      "4              595453              594264              573146   \n",
      "\n",
      "  2025-01-01 00:00:00  \n",
      "0              832241  \n",
      "1              353442  \n",
      "2              613205  \n",
      "3              406363  \n",
      "4              576271  \n",
      "\n",
      "[5 rows x 363 columns]\n"
     ]
    }
   ],
   "source": [
    "# Tranpose the dataframe since the rows are key by dates and the column headings are cities\n",
    "properties_tall = properties.T\n",
    "\n",
    "# Columns are oddly off, so we are resetting the index\n",
    "properties_tall = properties_tall.reset_index()\n",
    "\n",
    "print(properties_tall_clean.head())\n",
    "\n",
    "#print(properties_tall_clean.index)\n",
    "#print(properties_tall_clean.iloc[:4,0])\n",
    "#print(properties_tall_clean.info())\n",
    "#print(properties_tall_clean.iloc[:,0])\n",
    "#print(properties_tall.iloc[1:,0].isna().sum())\n"
   ]
  },
  {
   "cell_type": "markdown",
   "metadata": {
    "colab_type": "text",
    "id": "o1uLbJAsoIjK"
   },
   "source": [
    "**2.3. Cleaning the data (part 2)**\n",
    "\n",
    "You might we have to **rename** a couple columns. How do you do this? The clue's pretty bold..."
   ]
  },
  {
   "cell_type": "code",
   "execution_count": 936,
   "metadata": {
    "colab": {},
    "colab_type": "code",
    "id": "GKkmn1AnoVZS"
   },
   "outputs": [],
   "source": [
    "#rename columns\n",
    "properties_tall_clean.rename(columns={properties_tall_clean.columns[0]: \"London Borough\"}, inplace = True)\n",
    "properties_tall_clean.rename(columns={properties_tall_clean.columns[1]: \"Borough ID\"}, inplace = True)\n",
    "#print(properties_tall_clean['London Burrough'])\n",
    "#print(properties_tall_clean['Burrough ID'])\n",
    "    \n",
    "#print(city_list)\n",
    "#print(properties_tall_clean['London Burrough'])\n",
    "#print(properties_tall_clean.head(10))\n"
   ]
  },
  {
   "cell_type": "markdown",
   "metadata": {
    "colab_type": "text",
    "id": "jy8BzXHmoWEw"
   },
   "source": [
    "**2.4.Transforming the data**\n",
    "\n",
    "Remember what Wes McKinney said about tidy data? \n",
    "\n",
    "You might need to **melt** your DataFrame here. "
   ]
  },
  {
   "cell_type": "code",
   "execution_count": 1018,
   "metadata": {
    "colab": {},
    "colab_type": "code",
    "id": "S2wM0qLuo2Zt"
   },
   "outputs": [
    {
     "name": "stdout",
     "output_type": "stream",
     "text": [
      "       London Borough Borough ID                 Date Average Price\n",
      "0      City of London  E09000001  1995-01-01 00:00:00         90347\n",
      "1  Barking & Dagenham  E09000002  1995-01-01 00:00:00         51870\n",
      "2              Barnet  E09000003  1995-01-01 00:00:00         98948\n",
      "3              Bexley  E09000004  1995-01-01 00:00:00         64956\n",
      "4               Brent  E09000005  1995-01-01 00:00:00         76880\n",
      "<class 'pandas.core.frame.DataFrame'>\n",
      "RangeIndex: 16245 entries, 0 to 16244\n",
      "Data columns (total 4 columns):\n",
      " #   Column          Non-Null Count  Dtype \n",
      "---  ------          --------------  ----- \n",
      " 0   London Borough  16245 non-null  object\n",
      " 1   Borough ID      16245 non-null  object\n",
      " 2   Date            16245 non-null  object\n",
      " 3   Average Price   16245 non-null  object\n",
      "dtypes: object(4)\n",
      "memory usage: 507.8+ KB\n",
      "None\n"
     ]
    }
   ],
   "source": [
    "# melt dataframe keeping location\n",
    "properties_tall_clean_stacked = properties_tall_clean.melt(id_vars=['London Borough','Borough ID'], var_name='Date', value_name='Average Price')\n",
    "\n",
    "print(properties_tall_clean_stacked.head())\n",
    "print(properties_tall_clean_stacked.info())"
   ]
  },
  {
   "cell_type": "markdown",
   "metadata": {
    "colab_type": "text",
    "id": "7kIsgAo7o3mf"
   },
   "source": [
    "Remember to make sure your column data types are all correct. Average prices, for example, should be floating point numbers... "
   ]
  },
  {
   "cell_type": "code",
   "execution_count": 1020,
   "metadata": {
    "colab": {},
    "colab_type": "code",
    "id": "ZcR4IHbcpOaq"
   },
   "outputs": [
    {
     "name": "stdout",
     "output_type": "stream",
     "text": [
      "       London Borough Borough ID       Date  Average Price  Year  Month  Day\n",
      "0      City of London  E09000001 1995-01-01        90347.0  1995      1    1\n",
      "1  Barking & Dagenham  E09000002 1995-01-01        51870.0  1995      1    1\n",
      "2              Barnet  E09000003 1995-01-01        98948.0  1995      1    1\n",
      "3              Bexley  E09000004 1995-01-01        64956.0  1995      1    1\n",
      "4               Brent  E09000005 1995-01-01        76880.0  1995      1    1\n"
     ]
    }
   ],
   "source": [
    "properties_tall_clean_stacked['Date'] = pd.to_datetime(properties_tall_clean_stacked['Date'])\n",
    "properties_tall_clean_stacked['Year'] = properties_tall_clean_stacked['Date'].dt.year\n",
    "properties_tall_clean_stacked['Month'] = properties_tall_clean_stacked['Date'].dt.month\n",
    "properties_tall_clean_stacked['Day'] = properties_tall_clean_stacked['Date'].dt.day\n",
    "properties_tall_clean_stacked['Average Price'] = properties_tall_clean_stacked['Average Price'].astype(float)\n",
    "properties_tall_clean_stacked['London Borough'] = properties_tall_clean_stacked['London Borough'].astype(str)\n",
    "properties_tall_clean_stacked['Borough ID'] = properties_tall_clean_stacked['Borough ID'].astype(str)\n",
    "\n",
    "#print(properties_tall_clean_stacked.head())\n",
    "#print(properties_tall_clean_stacked.info())\n",
    "#print(properties_tall_clean_stacked['location'])\n",
    "#print(properties_tall_clean_stacked.index)\n",
    "print(properties_tall_clean_stacked.head()) "
   ]
  },
  {
   "cell_type": "markdown",
   "metadata": {
    "colab_type": "text",
    "id": "knLUXHLypOtw"
   },
   "source": [
    "**2.5. Cleaning the data (part 3)**\n",
    "\n",
    "Do we have an equal number of observations in the ID, Average Price, Month, and London Borough columns? Remember that there are only 32 London Boroughs. How many entries do you have in that column? \n",
    "\n",
    "Check out the contents of the London Borough column, and if you find null values, get rid of them however you see fit. "
   ]
  },
  {
   "cell_type": "code",
   "execution_count": 1642,
   "metadata": {
    "colab": {},
    "colab_type": "code",
    "id": "BnvTW5a3p0fC"
   },
   "outputs": [],
   "source": [
    "# drop rows with null values\n",
    "properties_tall_clean_stacked = properties_tall_clean.dropna()\n",
    "# check for any null values\n",
    "#print(properties_tall_clean_stacked.isna().sum())\n",
    "\n",
    "# create empty list to store the 32 boroughts\n",
    "lst_32boroughs = []\n",
    "\n",
    "# loop and store the 32 IDs. 33 IDs match E09 and we exclude the first one which is the City of London itself\n",
    "for b_id in properties_tall_clean_stacked['Borough ID']:\n",
    "    # conditional logic to append speicific matching IDs & exclude city of london\n",
    "    if (b_id[:3] == 'E09') & (b_id != 'E09000001'):\n",
    "        # append each borough id to list lst_32boroughts\n",
    "        lst_32boroughs.append(b_id)\n",
    "\n",
    "#print(lst_32boroughs)\n",
    "\n",
    "# filter rows where the list of IDs matches\n",
    "properties_tall_clean_stacked = properties_tall_clean_stacked[properties_tall_clean_stacked['Borough ID'].isin(lst_32boroughs)]\n",
    "properties_tall_clean_stacked = properties_tall_clean_stacked.melt(id_vars=['London Borough','Borough ID'], var_name='Date', value_name='Average Price')\n",
    "\n",
    "# set variable types\n",
    "properties_tall_clean_stacked['Date'] = pd.to_datetime(properties_tall_clean_stacked['Date'])\n",
    "properties_tall_clean_stacked['Year'] = properties_tall_clean_stacked['Date'].dt.year\n",
    "properties_tall_clean_stacked['Month'] = properties_tall_clean_stacked['Date'].dt.month\n",
    "properties_tall_clean_stacked['Day'] = properties_tall_clean_stacked['Date'].dt.day\n",
    "properties_tall_clean_stacked['Average Price'] = properties_tall_clean_stacked['Average Price'].astype(float)\n",
    "properties_tall_clean_stacked['London Borough'] = properties_tall_clean_stacked['London Borough'].astype(str)\n",
    "properties_tall_clean_stacked['Borough ID'] = properties_tall_clean_stacked['Borough ID'].astype(str)\n",
    "\n",
    "#print(properties_tall_clean_stacked.head(5))\n",
    "#print(df_london_boroughs['Borough ID'].count())\n",
    "#print(df_london_boroughs_tall.head(5))\n",
    "#print(properties_tall_clean_stacked.head(37))\n",
    "#print(properties_tall_clean_stacked.iloc[0,:])\n",
    "#print(properties_tall_clean_stacked.iloc[1:33,:])\n",
    "#print('Max Date: ' + str(properties_tall_clean_stacked['Date'].max()))"
   ]
  },
  {
   "cell_type": "markdown",
   "metadata": {
    "colab_type": "text",
    "id": "PGEx6mJsp6dG"
   },
   "source": [
    "**2.6. Visualizing the data**\n",
    "\n",
    "To visualize the data, why not subset on a particular London Borough? Maybe do a line plot of Month against Average Price?"
   ]
  },
  {
   "cell_type": "code",
   "execution_count": 1640,
   "metadata": {
    "colab": {},
    "colab_type": "code",
    "id": "nAg5pT9cqHAR"
   },
   "outputs": [
    {
     "data": {
      "image/png": "[encoded data removed]",
      "text/plain": [
       "<Figure size 640x480 with 1 Axes>"
      ]
     },
     "metadata": {},
     "output_type": "display_data"
    }
   ],
   "source": [
    "# plot one borough's avg. price a line graph\n",
    "# sort data by date in scending order\n",
    "prop_sorted = properties_tall_clean_stacked.sort_values([\"Year\",\"Month\"], ascending=[True,False])\n",
    "\n",
    "# update the borough name from any of these to get data to chart below\n",
    "borough_name = 'Kensington & Chelsea'\n",
    "\n",
    "# maybe replace this with a lamda function\n",
    "prop_sample = prop_sorted[(prop_sorted['Month'] == 1) & (prop_sorted['Day'] == 1) & (prop_sorted['London Borough'] == borough_name)]\n",
    "\n",
    "#print(prop_sample.head(25))\n",
    "prop_sample.plot(kind='line', x='Year', y='Average Price')\n",
    "\n",
    "# show line plot\n",
    "plt.title(borough_name)\n",
    "plt.show()"
   ]
  },
  {
   "cell_type": "markdown",
   "metadata": {
    "colab_type": "text",
    "id": "aWTPqSJeqHnC"
   },
   "source": [
    "To limit the number of data points you have, you might want to extract the year from every month value your *Month* column. \n",
    "\n",
    "To this end, you *could* apply a ***lambda function***. Your logic could work as follows:\n",
    "1. look through the `Month` column\n",
    "2. extract the year from each individual value in that column \n",
    "3. store that corresponding year as separate column. \n",
    "\n",
    "Whether you go ahead with this is up to you. Just so long as you answer our initial brief: which boroughs of London have seen the greatest house price increase, on average, over the past two decades? "
   ]
  },
  {
   "cell_type": "code",
   "execution_count": null,
   "metadata": {
    "colab": {},
    "colab_type": "code",
    "id": "e0DF92cyqnu8"
   },
   "outputs": [],
   "source": []
  },
  {
   "cell_type": "markdown",
   "metadata": {
    "colab_type": "text",
    "id": "2knuTxAEqoJ4"
   },
   "source": [
    "**3. Modeling**\n",
    "\n",
    "Consider creating a function that will calculate a ratio of house prices, comparing the price of a house in 2018 to the price in 1998.\n",
    "\n",
    "Consider calling this function create_price_ratio.\n",
    "\n",
    "You'd want this function to:\n",
    "1. Take a filter of dfg, specifically where this filter constrains the London_Borough, as an argument. For example, one admissible argument should be: dfg[dfg['London_Borough']=='Camden'].\n",
    "2. Get the Average Price for that Borough, for the years 1998 and 2018.\n",
    "4. Calculate the ratio of the Average Price for 1998 divided by the Average Price for 2018.\n",
    "5. Return that ratio.\n",
    "\n",
    "Once you've written this function, you ultimately want to use it to iterate through all the unique London_Boroughs and work out the ratio capturing the difference of house prices between 1998 and 2018.\n",
    "\n",
    "Bear in mind: you don't have to write a function like this if you don't want to. If you can solve the brief otherwise, then great! \n",
    "\n",
    "***Hint***: This section should test the skills you acquired in:\n",
    "- Python Data Science Toolbox - Part One, all modules"
   ]
  },
  {
   "cell_type": "code",
   "execution_count": 1620,
   "metadata": {
    "colab": {},
    "colab_type": "code",
    "id": "cKTyr437UgDa"
   },
   "outputs": [
    {
     "data": {
      "image/png": "[encoded data removed]",
      "text/plain": [
       "<Figure size 640x480 with 1 Axes>"
      ]
     },
     "metadata": {},
     "output_type": "display_data"
    },
    {
     "name": "stdout",
     "output_type": "stream",
     "text": [
      "Price Growth: 2015 to 2025\n",
      "       Growth Ratio\n",
      "count     32.000000\n",
      "mean       1.289531\n",
      "std        0.195046\n",
      "min        0.789000\n",
      "25%        1.182250\n",
      "50%        1.316500\n",
      "75%        1.430250\n",
      "max        1.562000\n",
      "          London Borough  Growth Ratio\n",
      "0     Barking & Dagenham         1.562\n",
      "14              Havering         1.559\n",
      "2                 Bexley         1.553\n",
      "24             Redbridge         1.541\n",
      "29        Waltham Forest         1.494\n",
      "27                Sutton         1.439\n",
      "9              Greenwich         1.435\n",
      "23                Newham         1.431\n",
      "6                Croydon         1.430\n",
      "8                Enfield         1.426\n",
      "15            Hillingdon         1.406\n",
      "16              Hounslow         1.381\n",
      "21              Lewisham         1.374\n",
      "4                Bromley         1.365\n",
      "22                Merton         1.343\n",
      "13                Harrow         1.323\n",
      "7                 Ealing         1.310\n",
      "12              Haringey         1.283\n",
      "3                  Brent         1.264\n",
      "19  Kingston upon Thames         1.264\n",
      "1                 Barnet         1.253\n",
      "25  Richmond upon Thames         1.249\n",
      "10               Hackney         1.236\n",
      "20               Lambeth         1.201\n",
      "26             Southwark         1.126\n",
      "28         Tower Hamlets         1.125\n",
      "30            Wandsworth         1.096\n",
      "5                 Camden         1.087\n",
      "17             Islington         1.060\n",
      "11  Hammersmith & Fulham         0.993\n",
      "31           Westminster         0.867\n",
      "18  Kensington & Chelsea         0.789\n"
     ]
    }
   ],
   "source": [
    "# create a function that takes borough inputs(borough_name, target year, prior year) and returns a price ratio \n",
    "def create_price_ratio(bor_name, dt_target_yr, dt_prev_yr):\n",
    "    \n",
    "    # df data for year entered\n",
    "    df_current_yr = prop_sorted[(prop_sorted['Year'] == dt_target_yr) & (prop_sorted['Month'] == 1) & (prop_sorted['London Borough'] == bor_name)]  \n",
    "    # df data for decade ago\n",
    "    df_past_yr = prop_sorted[(prop_sorted['Year'] == dt_prev_yr) & (prop_sorted['Month'] == 1) & (prop_sorted['London Borough'] == bor_name)]\n",
    "    # calculate price increase ratio\n",
    "    df_price_dif_ratio = df_current_yr['Average Price'].values[0] / df_past_yr['Average Price'].values[0]\n",
    "\n",
    "    return df_price_dif_ratio.round(3)\n",
    "\n",
    "#create list of the unique London Borough names\n",
    "lst_32boroughs_name = []\n",
    "lst_32boroughs_name = properties_tall_clean_stacked['London Borough'].unique()\n",
    "\n",
    "# create new empty dictionary where key is borough name and value is growth ratio\n",
    "#dct_borough_gr = {}\n",
    "# create new empty dataframe with 2 coluns: London Borough and 10YrGrowth Ratio\n",
    "df_borough_gr = pd.DataFrame(columns=['London Borough', 'Growth Ratio'])\n",
    "\n",
    "# set target and prior year variables to generate growth rate\n",
    "target_yr = 2025\n",
    "prior_yr = 2015\n",
    "\n",
    "# loop through the list of 32 London Boroughts\n",
    "for index, b_name in enumerate(lst_32boroughs_name):\n",
    "    \n",
    "    # not used because hard to read and sort: create a \n",
    "    #dct_borough_gr[b_name] = create_price_ratio(b_name, 2025, 10)\n",
    "    \n",
    "    # run function create_price_ratio, which returns price ratio for the number of years to compare\n",
    "    df_borough_gr.loc[index] = [b_name, create_price_ratio(b_name, target_yr, prior_yr)]\n",
    "    \n",
    "df_borough_gr.sort_values('Growth Ratio', ascending=True, inplace=True)\n",
    "#df_borough_gr.plot(kind='bar', x='London Borough', y='Growth Ratio')\n",
    "plt.barh(df_borough_gr['London Borough'], df_borough_gr['Growth Ratio'], color='skyblue')\n",
    "plt.xlabel('Avg. Price Growth Ratio')\n",
    "plt.ylabel('London Borough')\n",
    "plt.title('Average Price Growth: ' + str(prior_yr) + \" to \" + str(target_yr))\n",
    "plt.show()\n",
    "\n",
    "print('Price Growth: ' + str(prior_yr) + \" to \" + str(target_yr))\n",
    "print(df_borough_gr.describe())\n",
    "print(df_borough_gr.sort_values(\"Growth Ratio\", ascending=False))\n",
    "\n",
    "\n"
   ]
  },
  {
   "cell_type": "markdown",
   "metadata": {
    "colab_type": "text",
    "id": "NzYUI7FxJpgv"
   },
   "source": [
    "### 4. Conclusion\n",
    "What can you conclude? Type out your conclusion below. \n",
    "\n",
    "Over two decades (from 2005 to 2025) across the 32 London Boroughs, the average price increase ratio is 2.21, with a median of 2.19.  The top 5 increases experienced during this period are from these five boroughs: Waltham Forest (2.606), Hackney(2.517), Lewisham(2.485), Camden(2.424), and Greenwich(2.408).  \n",
    "\n",
    "It is worth noting that over the most recent deacade (2015 to 2025), only Waltham Forest remained in the top 5.  The other four have experienced slower growth over the most recent decade.\n",
    "\n",
    "Look back at your notebook. Think about how you might summarize what you have done, and prepare a quick presentation on it to your mentor at your next meeting. \n",
    "\n",
    "We hope you enjoyed this practical project. It should have consolidated your data hygiene and pandas skills by looking at a real-world problem involving just the kind of dataset you might encounter as a budding data scientist. Congratulations, and looking forward to seeing you at the next step in the course! "
   ]
  },
  {
   "cell_type": "code",
   "execution_count": null,
   "metadata": {},
   "outputs": [],
   "source": []
  }
 ],
 "metadata": {
  "colab": {
   "collapsed_sections": [],
   "name": "Springboard Data Science Career Track Unit 4 Challenge - Tier 3 Complete .ipynb",
   "provenance": []
  },
  "kernelspec": {
   "display_name": "Python [conda env:base] *",
   "language": "python",
   "name": "conda-base-py"
  },
  "language_info": {
   "codemirror_mode": {
    "name": "ipython",
    "version": 3
   },
   "file_extension": ".py",
   "mimetype": "text/x-python",
   "name": "python",
   "nbconvert_exporter": "python",
   "pygments_lexer": "ipython3",
   "version": "3.12.7"
  }
 },
 "nbformat": 4,
 "nbformat_minor": 4
}
